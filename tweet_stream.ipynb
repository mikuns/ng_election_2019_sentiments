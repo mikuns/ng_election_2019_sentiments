{
 "cells": [
  {
   "cell_type": "code",
   "execution_count": null,
   "metadata": {},
   "outputs": [],
   "source": [
    "__author__ = 'Ayomikun Samuel'\n",
    "__date__ = '5/8/2018'\n",
    "\n",
    "import json\n",
    "import tweepy\n",
    "import csv\n",
    "import os\n",
    "import pandas as pd\n"
   ]
  },
  {
   "cell_type": "code",
   "execution_count": null,
   "metadata": {},
   "outputs": [],
   "source": [
    "####input your credentials here\n",
    "####input your credentials here\n",
    "consumer_key = ''\n",
    "consumer_secret = ''\n",
    "access_token = ''\n",
    "access_token_secret = ''"
   ]
  },
  {
   "cell_type": "code",
   "execution_count": null,
   "metadata": {},
   "outputs": [],
   "source": [
    "# OAuth process, using the keys and tokens\n",
    "auth = tweepy.OAuthHandler(consumer_key, consumer_secret)\n",
    "auth.set_access_token(access_token, access_token_secret)\n",
    "\n",
    "api = tweepy.API(auth,wait_on_rate_limit=True)\n",
    "\n",
    "# Open/Create a file to append data\n",
    "csvFile = open('sa_test.csv', 'a')\n",
    "#Use csv Writer\n",
    "csvWriter = csv.writer(csvFile)\n",
    "\n",
    "# To count unique ids\n",
    "ids = set()\n",
    "for tweet in tweepy.Cursor(api.search,q=\"nigeria AND election AND 2019 -filter:retweets\", count=20, lang=\"en\",since=\"2018-07-01\").items(20):\n",
    "    ids.add(tweet.id) # add new id\n",
    "#    print(tweet.user.name, tweet.user.location, tweet.user.followers_count, tweet.user.friends_count, tweet.features)\n",
    "    \n",
    "    print (tweet.created_at, tweet.text, tweet.favorite_count, tweet.retweet_count, tweet.id, tweet.user.screen_name, tweet.user.name, tweet.user.location, tweet.user.description)\n",
    "\n",
    "# if (not tweet.retweeted) and ('RT @' not in tweet.text):\n",
    "# csvWriter.writerow([tweet.created_at, tweet.text.encode('utf-8'), tweet.favorite_count, tweet.retweet_count, tweet.id, tweet.user.screen_name, tweet.user.name, tweet.user.location, tweet.user.description])\n",
    "print (\"number of unique ids seen so far: {}\",format(len(ids)))\n",
    "\n",
    "csvFile.close()"
   ]
  },
  {
   "cell_type": "code",
   "execution_count": null,
   "metadata": {},
   "outputs": [],
   "source": [
    "#ANALYSIS"
   ]
  },
  {
   "cell_type": "code",
   "execution_count": null,
   "metadata": {},
   "outputs": [],
   "source": []
  }
 ],
 "metadata": {
  "kernelspec": {
   "display_name": "Python 3",
   "language": "python",
   "name": "python3"
  },
  "language_info": {
   "codemirror_mode": {
    "name": "ipython",
    "version": 3
   },
   "file_extension": ".py",
   "mimetype": "text/x-python",
   "name": "python",
   "nbconvert_exporter": "python",
   "pygments_lexer": "ipython3",
   "version": "3.6.4"
  }
 },
 "nbformat": 4,
 "nbformat_minor": 2
}
